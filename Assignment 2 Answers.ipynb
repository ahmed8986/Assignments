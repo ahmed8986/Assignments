{
 "cells": [
  {
   "cell_type": "markdown",
   "id": "7297af14",
   "metadata": {},
   "source": [
    "    1. Write a Python program to add an item to a tuple."
   ]
  },
  {
   "cell_type": "code",
   "execution_count": 33,
   "id": "6b338034",
   "metadata": {},
   "outputs": [
    {
     "name": "stdout",
     "output_type": "stream",
     "text": [
      "(1, 2, 3, 4, 5)\n"
     ]
    }
   ],
   "source": [
    "t1 = (1,2,3)\n",
    "t1Append= t1 + (4,5)\n",
    "print (t1Append)"
   ]
  },
  {
   "cell_type": "markdown",
   "id": "9b337d64",
   "metadata": {},
   "source": [
    "2. Write a Python program to sum all the items in a list."
   ]
  },
  {
   "cell_type": "code",
   "execution_count": 13,
   "id": "ee0462a4",
   "metadata": {},
   "outputs": [
    {
     "name": "stdout",
     "output_type": "stream",
     "text": [
      "10\n"
     ]
    }
   ],
   "source": [
    "l1 = [1,2,3,4]\n",
    "s=0\n",
    "for i in l1:\n",
    "    s+=i\n",
    "print (s)"
   ]
  },
  {
   "cell_type": "markdown",
   "id": "19158c0e",
   "metadata": {},
   "source": [
    "3. Write a Python program to multiply all the items in a list."
   ]
  },
  {
   "cell_type": "code",
   "execution_count": 15,
   "id": "6cec45fa",
   "metadata": {},
   "outputs": [
    {
     "name": "stdout",
     "output_type": "stream",
     "text": [
      "24\n"
     ]
    }
   ],
   "source": [
    "p = 1\n",
    "for j in l1:\n",
    "    p *= j\n",
    "print (p)"
   ]
  },
  {
   "cell_type": "markdown",
   "id": "36cc4f44",
   "metadata": {},
   "source": [
    "4. Write a Python program to get the smallest number from a list."
   ]
  },
  {
   "cell_type": "code",
   "execution_count": 16,
   "id": "7deab7f3",
   "metadata": {},
   "outputs": [
    {
     "name": "stdout",
     "output_type": "stream",
     "text": [
      "1\n"
     ]
    }
   ],
   "source": [
    "print(min(l1))"
   ]
  },
  {
   "cell_type": "markdown",
   "id": "fa236d37",
   "metadata": {},
   "source": [
    "5. Write a Python program to get the largest number from a list."
   ]
  },
  {
   "cell_type": "code",
   "execution_count": 17,
   "id": "ff130372",
   "metadata": {},
   "outputs": [
    {
     "name": "stdout",
     "output_type": "stream",
     "text": [
      "4\n"
     ]
    }
   ],
   "source": [
    "print(max(l1))"
   ]
  },
  {
   "cell_type": "markdown",
   "id": "d88f7a86",
   "metadata": {},
   "source": [
    "6. Write a Python program to count the number of strings from a given list of strings."
   ]
  },
  {
   "cell_type": "code",
   "execution_count": 23,
   "id": "39068da7",
   "metadata": {},
   "outputs": [
    {
     "name": "stdout",
     "output_type": "stream",
     "text": [
      "5\n"
     ]
    }
   ],
   "source": [
    "S2 = \"ahmed\"\n",
    "print(len(l2))"
   ]
  },
  {
   "cell_type": "markdown",
   "id": "03409fce",
   "metadata": {},
   "source": [
    "7. Write a Python program to clone or copy a list"
   ]
  },
  {
   "cell_type": "code",
   "execution_count": 28,
   "id": "3b696628",
   "metadata": {},
   "outputs": [
    {
     "name": "stdout",
     "output_type": "stream",
     "text": [
      "[1, 2, 3, 4]\n"
     ]
    }
   ],
   "source": [
    "l2=l1.copy()\n",
    "print(l2)"
   ]
  },
  {
   "cell_type": "markdown",
   "id": "82238086",
   "metadata": {},
   "source": [
    "8. Write a Python program to remove item(s) from a given set."
   ]
  },
  {
   "cell_type": "code",
   "execution_count": 31,
   "id": "447b7fde",
   "metadata": {},
   "outputs": [
    {
     "name": "stdout",
     "output_type": "stream",
     "text": [
      "[2, 3, 4]\n"
     ]
    }
   ],
   "source": [
    "l1.remove(1)\n",
    "print(l1)"
   ]
  },
  {
   "cell_type": "markdown",
   "id": "1d4a5119",
   "metadata": {},
   "source": [
    "9. Write a Python program to check if a set is a subset of another set."
   ]
  },
  {
   "cell_type": "code",
   "execution_count": 36,
   "id": "18d3f835",
   "metadata": {},
   "outputs": [
    {
     "name": "stdout",
     "output_type": "stream",
     "text": [
      "False\n"
     ]
    }
   ],
   "source": [
    "s1={1,2,3,3}\n",
    "s2={4,5,6,7}\n",
    "print(s1.issubset(s2))"
   ]
  },
  {
   "cell_type": "markdown",
   "id": "9ff959cb",
   "metadata": {},
   "source": [
    "10. Write a Python program to remove all elements from a given set."
   ]
  },
  {
   "cell_type": "code",
   "execution_count": 39,
   "id": "7a33446c",
   "metadata": {},
   "outputs": [
    {
     "name": "stdout",
     "output_type": "stream",
     "text": [
      "set()\n"
     ]
    }
   ],
   "source": [
    "s2.remove\n",
    "print(s2)"
   ]
  },
  {
   "cell_type": "markdown",
   "id": "fac95112",
   "metadata": {},
   "source": [
    "11. Write a Python program to find the maximum and minimum values in a set."
   ]
  },
  {
   "cell_type": "code",
   "execution_count": 41,
   "id": "ef05e530",
   "metadata": {},
   "outputs": [
    {
     "name": "stdout",
     "output_type": "stream",
     "text": [
      "3\n",
      "1\n"
     ]
    }
   ],
   "source": [
    "print(max(s1))\n",
    "print(min(s1))"
   ]
  },
  {
   "cell_type": "markdown",
   "id": "18804b3f",
   "metadata": {},
   "source": [
    "12. Write a Python program to find the index of an item in a tuple."
   ]
  },
  {
   "cell_type": "code",
   "execution_count": 48,
   "id": "ee3f20c1",
   "metadata": {},
   "outputs": [
    {
     "name": "stdout",
     "output_type": "stream",
     "text": [
      "0\n",
      "1\n",
      "2\n"
     ]
    }
   ],
   "source": [
    "print(t1.index(1))\n",
    "print(t1.index(2))\n",
    "print(t1.index(3))"
   ]
  },
  {
   "cell_type": "markdown",
   "id": "77a8a3a8",
   "metadata": {},
   "source": [
    "13. Write a Python program to convert a tuple to a dictionary."
   ]
  },
  {
   "cell_type": "code",
   "execution_count": 50,
   "id": "914e39f0",
   "metadata": {},
   "outputs": [
    {
     "data": {
      "text/plain": [
       "(1, 2, 3)"
      ]
     },
     "execution_count": 50,
     "metadata": {},
     "output_type": "execute_result"
    }
   ],
   "source": [
    "t1"
   ]
  },
  {
   "cell_type": "code",
   "execution_count": 54,
   "id": "e40a70b7",
   "metadata": {},
   "outputs": [
    {
     "name": "stdout",
     "output_type": "stream",
     "text": [
      "{'first number': 1, 'second number': 2, 'third number': 3}\n"
     ]
    }
   ],
   "source": [
    "d1 = {\"first number\":1,\"second number\":2,\"third number\":3}\n",
    "print(d1)"
   ]
  },
  {
   "cell_type": "code",
   "execution_count": null,
   "id": "a5c28e7b",
   "metadata": {},
   "outputs": [],
   "source": []
  }
 ],
 "metadata": {
  "kernelspec": {
   "display_name": "Python 3 (ipykernel)",
   "language": "python",
   "name": "python3"
  },
  "language_info": {
   "codemirror_mode": {
    "name": "ipython",
    "version": 3
   },
   "file_extension": ".py",
   "mimetype": "text/x-python",
   "name": "python",
   "nbconvert_exporter": "python",
   "pygments_lexer": "ipython3",
   "version": "3.10.9"
  }
 },
 "nbformat": 4,
 "nbformat_minor": 5
}
